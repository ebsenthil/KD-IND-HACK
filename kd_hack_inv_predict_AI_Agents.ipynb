{
  "nbformat": 4,
  "nbformat_minor": 0,
  "metadata": {
    "colab": {
      "provenance": [],
      "authorship_tag": "ABX9TyMr3BY4kEqdp2ObDpUh3stU",
      "include_colab_link": true
    },
    "kernelspec": {
      "name": "python3",
      "display_name": "Python 3"
    },
    "language_info": {
      "name": "python"
    }
  },
  "cells": [
    {
      "cell_type": "markdown",
      "metadata": {
        "id": "view-in-github",
        "colab_type": "text"
      },
      "source": [
        "<a href=\"https://colab.research.google.com/github/ebsenthil/KD-IND-HACK/blob/main/kd_hack_inv_predict_AI_Agents.ipynb\" target=\"_parent\"><img src=\"https://colab.research.google.com/assets/colab-badge.svg\" alt=\"Open In Colab\"/></a>"
      ]
    },
    {
      "cell_type": "code",
      "execution_count": 419,
      "metadata": {
        "colab": {
          "base_uri": "https://localhost:8080/"
        },
        "id": "w0y4xLNMXpuA",
        "outputId": "b87063e3-11be-412d-e0c7-e870c3598e37"
      },
      "outputs": [
        {
          "output_type": "stream",
          "name": "stdout",
          "text": [
            "Requirement already satisfied: langchain_openai in /usr/local/lib/python3.11/dist-packages (0.3.27)\n",
            "Requirement already satisfied: langchain-core<1.0.0,>=0.3.66 in /usr/local/lib/python3.11/dist-packages (from langchain_openai) (0.3.66)\n",
            "Requirement already satisfied: openai<2.0.0,>=1.86.0 in /usr/local/lib/python3.11/dist-packages (from langchain_openai) (1.91.0)\n",
            "Requirement already satisfied: tiktoken<1,>=0.7 in /usr/local/lib/python3.11/dist-packages (from langchain_openai) (0.9.0)\n",
            "Requirement already satisfied: langsmith>=0.3.45 in /usr/local/lib/python3.11/dist-packages (from langchain-core<1.0.0,>=0.3.66->langchain_openai) (0.4.1)\n",
            "Requirement already satisfied: tenacity!=8.4.0,<10.0.0,>=8.1.0 in /usr/local/lib/python3.11/dist-packages (from langchain-core<1.0.0,>=0.3.66->langchain_openai) (8.5.0)\n",
            "Requirement already satisfied: jsonpatch<2.0,>=1.33 in /usr/local/lib/python3.11/dist-packages (from langchain-core<1.0.0,>=0.3.66->langchain_openai) (1.33)\n",
            "Requirement already satisfied: PyYAML>=5.3 in /usr/local/lib/python3.11/dist-packages (from langchain-core<1.0.0,>=0.3.66->langchain_openai) (6.0.2)\n",
            "Requirement already satisfied: packaging<25,>=23.2 in /usr/local/lib/python3.11/dist-packages (from langchain-core<1.0.0,>=0.3.66->langchain_openai) (24.2)\n",
            "Requirement already satisfied: typing-extensions>=4.7 in /usr/local/lib/python3.11/dist-packages (from langchain-core<1.0.0,>=0.3.66->langchain_openai) (4.14.0)\n",
            "Requirement already satisfied: pydantic>=2.7.4 in /usr/local/lib/python3.11/dist-packages (from langchain-core<1.0.0,>=0.3.66->langchain_openai) (2.11.7)\n",
            "Requirement already satisfied: anyio<5,>=3.5.0 in /usr/local/lib/python3.11/dist-packages (from openai<2.0.0,>=1.86.0->langchain_openai) (4.9.0)\n",
            "Requirement already satisfied: distro<2,>=1.7.0 in /usr/local/lib/python3.11/dist-packages (from openai<2.0.0,>=1.86.0->langchain_openai) (1.9.0)\n",
            "Requirement already satisfied: httpx<1,>=0.23.0 in /usr/local/lib/python3.11/dist-packages (from openai<2.0.0,>=1.86.0->langchain_openai) (0.28.1)\n",
            "Requirement already satisfied: jiter<1,>=0.4.0 in /usr/local/lib/python3.11/dist-packages (from openai<2.0.0,>=1.86.0->langchain_openai) (0.10.0)\n",
            "Requirement already satisfied: sniffio in /usr/local/lib/python3.11/dist-packages (from openai<2.0.0,>=1.86.0->langchain_openai) (1.3.1)\n",
            "Requirement already satisfied: tqdm>4 in /usr/local/lib/python3.11/dist-packages (from openai<2.0.0,>=1.86.0->langchain_openai) (4.67.1)\n",
            "Requirement already satisfied: regex>=2022.1.18 in /usr/local/lib/python3.11/dist-packages (from tiktoken<1,>=0.7->langchain_openai) (2024.11.6)\n",
            "Requirement already satisfied: requests>=2.26.0 in /usr/local/lib/python3.11/dist-packages (from tiktoken<1,>=0.7->langchain_openai) (2.32.3)\n",
            "Requirement already satisfied: idna>=2.8 in /usr/local/lib/python3.11/dist-packages (from anyio<5,>=3.5.0->openai<2.0.0,>=1.86.0->langchain_openai) (3.10)\n",
            "Requirement already satisfied: certifi in /usr/local/lib/python3.11/dist-packages (from httpx<1,>=0.23.0->openai<2.0.0,>=1.86.0->langchain_openai) (2025.6.15)\n",
            "Requirement already satisfied: httpcore==1.* in /usr/local/lib/python3.11/dist-packages (from httpx<1,>=0.23.0->openai<2.0.0,>=1.86.0->langchain_openai) (1.0.9)\n",
            "Requirement already satisfied: h11>=0.16 in /usr/local/lib/python3.11/dist-packages (from httpcore==1.*->httpx<1,>=0.23.0->openai<2.0.0,>=1.86.0->langchain_openai) (0.16.0)\n",
            "Requirement already satisfied: jsonpointer>=1.9 in /usr/local/lib/python3.11/dist-packages (from jsonpatch<2.0,>=1.33->langchain-core<1.0.0,>=0.3.66->langchain_openai) (3.0.0)\n",
            "Requirement already satisfied: orjson<4.0.0,>=3.9.14 in /usr/local/lib/python3.11/dist-packages (from langsmith>=0.3.45->langchain-core<1.0.0,>=0.3.66->langchain_openai) (3.10.18)\n",
            "Requirement already satisfied: requests-toolbelt<2.0.0,>=1.0.0 in /usr/local/lib/python3.11/dist-packages (from langsmith>=0.3.45->langchain-core<1.0.0,>=0.3.66->langchain_openai) (1.0.0)\n",
            "Requirement already satisfied: zstandard<0.24.0,>=0.23.0 in /usr/local/lib/python3.11/dist-packages (from langsmith>=0.3.45->langchain-core<1.0.0,>=0.3.66->langchain_openai) (0.23.0)\n",
            "Requirement already satisfied: annotated-types>=0.6.0 in /usr/local/lib/python3.11/dist-packages (from pydantic>=2.7.4->langchain-core<1.0.0,>=0.3.66->langchain_openai) (0.7.0)\n",
            "Requirement already satisfied: pydantic-core==2.33.2 in /usr/local/lib/python3.11/dist-packages (from pydantic>=2.7.4->langchain-core<1.0.0,>=0.3.66->langchain_openai) (2.33.2)\n",
            "Requirement already satisfied: typing-inspection>=0.4.0 in /usr/local/lib/python3.11/dist-packages (from pydantic>=2.7.4->langchain-core<1.0.0,>=0.3.66->langchain_openai) (0.4.1)\n",
            "Requirement already satisfied: charset-normalizer<4,>=2 in /usr/local/lib/python3.11/dist-packages (from requests>=2.26.0->tiktoken<1,>=0.7->langchain_openai) (3.4.2)\n",
            "Requirement already satisfied: urllib3<3,>=1.21.1 in /usr/local/lib/python3.11/dist-packages (from requests>=2.26.0->tiktoken<1,>=0.7->langchain_openai) (2.4.0)\n",
            "Requirement already satisfied: langchain_community in /usr/local/lib/python3.11/dist-packages (0.3.26)\n",
            "Requirement already satisfied: langchain-core<1.0.0,>=0.3.66 in /usr/local/lib/python3.11/dist-packages (from langchain_community) (0.3.66)\n",
            "Requirement already satisfied: langchain<1.0.0,>=0.3.26 in /usr/local/lib/python3.11/dist-packages (from langchain_community) (0.3.26)\n",
            "Requirement already satisfied: SQLAlchemy<3,>=1.4 in /usr/local/lib/python3.11/dist-packages (from langchain_community) (2.0.41)\n",
            "Requirement already satisfied: requests<3,>=2 in /usr/local/lib/python3.11/dist-packages (from langchain_community) (2.32.3)\n",
            "Requirement already satisfied: PyYAML>=5.3 in /usr/local/lib/python3.11/dist-packages (from langchain_community) (6.0.2)\n",
            "Requirement already satisfied: aiohttp<4.0.0,>=3.8.3 in /usr/local/lib/python3.11/dist-packages (from langchain_community) (3.11.15)\n",
            "Requirement already satisfied: tenacity!=8.4.0,<10,>=8.1.0 in /usr/local/lib/python3.11/dist-packages (from langchain_community) (8.5.0)\n",
            "Requirement already satisfied: dataclasses-json<0.7,>=0.5.7 in /usr/local/lib/python3.11/dist-packages (from langchain_community) (0.6.7)\n",
            "Requirement already satisfied: pydantic-settings<3.0.0,>=2.4.0 in /usr/local/lib/python3.11/dist-packages (from langchain_community) (2.10.1)\n",
            "Requirement already satisfied: langsmith>=0.1.125 in /usr/local/lib/python3.11/dist-packages (from langchain_community) (0.4.1)\n",
            "Requirement already satisfied: httpx-sse<1.0.0,>=0.4.0 in /usr/local/lib/python3.11/dist-packages (from langchain_community) (0.4.1)\n",
            "Requirement already satisfied: numpy>=1.26.2 in /usr/local/lib/python3.11/dist-packages (from langchain_community) (2.0.2)\n",
            "Requirement already satisfied: aiohappyeyeballs>=2.3.0 in /usr/local/lib/python3.11/dist-packages (from aiohttp<4.0.0,>=3.8.3->langchain_community) (2.6.1)\n",
            "Requirement already satisfied: aiosignal>=1.1.2 in /usr/local/lib/python3.11/dist-packages (from aiohttp<4.0.0,>=3.8.3->langchain_community) (1.3.2)\n",
            "Requirement already satisfied: attrs>=17.3.0 in /usr/local/lib/python3.11/dist-packages (from aiohttp<4.0.0,>=3.8.3->langchain_community) (25.3.0)\n",
            "Requirement already satisfied: frozenlist>=1.1.1 in /usr/local/lib/python3.11/dist-packages (from aiohttp<4.0.0,>=3.8.3->langchain_community) (1.7.0)\n",
            "Requirement already satisfied: multidict<7.0,>=4.5 in /usr/local/lib/python3.11/dist-packages (from aiohttp<4.0.0,>=3.8.3->langchain_community) (6.4.4)\n",
            "Requirement already satisfied: propcache>=0.2.0 in /usr/local/lib/python3.11/dist-packages (from aiohttp<4.0.0,>=3.8.3->langchain_community) (0.3.2)\n",
            "Requirement already satisfied: yarl<2.0,>=1.17.0 in /usr/local/lib/python3.11/dist-packages (from aiohttp<4.0.0,>=3.8.3->langchain_community) (1.20.1)\n",
            "Requirement already satisfied: marshmallow<4.0.0,>=3.18.0 in /usr/local/lib/python3.11/dist-packages (from dataclasses-json<0.7,>=0.5.7->langchain_community) (3.26.1)\n",
            "Requirement already satisfied: typing-inspect<1,>=0.4.0 in /usr/local/lib/python3.11/dist-packages (from dataclasses-json<0.7,>=0.5.7->langchain_community) (0.9.0)\n",
            "Requirement already satisfied: langchain-text-splitters<1.0.0,>=0.3.8 in /usr/local/lib/python3.11/dist-packages (from langchain<1.0.0,>=0.3.26->langchain_community) (0.3.8)\n",
            "Requirement already satisfied: pydantic<3.0.0,>=2.7.4 in /usr/local/lib/python3.11/dist-packages (from langchain<1.0.0,>=0.3.26->langchain_community) (2.11.7)\n",
            "Requirement already satisfied: jsonpatch<2.0,>=1.33 in /usr/local/lib/python3.11/dist-packages (from langchain-core<1.0.0,>=0.3.66->langchain_community) (1.33)\n",
            "Requirement already satisfied: packaging<25,>=23.2 in /usr/local/lib/python3.11/dist-packages (from langchain-core<1.0.0,>=0.3.66->langchain_community) (24.2)\n",
            "Requirement already satisfied: typing-extensions>=4.7 in /usr/local/lib/python3.11/dist-packages (from langchain-core<1.0.0,>=0.3.66->langchain_community) (4.14.0)\n",
            "Requirement already satisfied: httpx<1,>=0.23.0 in /usr/local/lib/python3.11/dist-packages (from langsmith>=0.1.125->langchain_community) (0.28.1)\n",
            "Requirement already satisfied: orjson<4.0.0,>=3.9.14 in /usr/local/lib/python3.11/dist-packages (from langsmith>=0.1.125->langchain_community) (3.10.18)\n",
            "Requirement already satisfied: requests-toolbelt<2.0.0,>=1.0.0 in /usr/local/lib/python3.11/dist-packages (from langsmith>=0.1.125->langchain_community) (1.0.0)\n",
            "Requirement already satisfied: zstandard<0.24.0,>=0.23.0 in /usr/local/lib/python3.11/dist-packages (from langsmith>=0.1.125->langchain_community) (0.23.0)\n",
            "Requirement already satisfied: python-dotenv>=0.21.0 in /usr/local/lib/python3.11/dist-packages (from pydantic-settings<3.0.0,>=2.4.0->langchain_community) (1.1.1)\n",
            "Requirement already satisfied: typing-inspection>=0.4.0 in /usr/local/lib/python3.11/dist-packages (from pydantic-settings<3.0.0,>=2.4.0->langchain_community) (0.4.1)\n",
            "Requirement already satisfied: charset-normalizer<4,>=2 in /usr/local/lib/python3.11/dist-packages (from requests<3,>=2->langchain_community) (3.4.2)\n",
            "Requirement already satisfied: idna<4,>=2.5 in /usr/local/lib/python3.11/dist-packages (from requests<3,>=2->langchain_community) (3.10)\n",
            "Requirement already satisfied: urllib3<3,>=1.21.1 in /usr/local/lib/python3.11/dist-packages (from requests<3,>=2->langchain_community) (2.4.0)\n",
            "Requirement already satisfied: certifi>=2017.4.17 in /usr/local/lib/python3.11/dist-packages (from requests<3,>=2->langchain_community) (2025.6.15)\n",
            "Requirement already satisfied: greenlet>=1 in /usr/local/lib/python3.11/dist-packages (from SQLAlchemy<3,>=1.4->langchain_community) (3.2.3)\n",
            "Requirement already satisfied: anyio in /usr/local/lib/python3.11/dist-packages (from httpx<1,>=0.23.0->langsmith>=0.1.125->langchain_community) (4.9.0)\n",
            "Requirement already satisfied: httpcore==1.* in /usr/local/lib/python3.11/dist-packages (from httpx<1,>=0.23.0->langsmith>=0.1.125->langchain_community) (1.0.9)\n",
            "Requirement already satisfied: h11>=0.16 in /usr/local/lib/python3.11/dist-packages (from httpcore==1.*->httpx<1,>=0.23.0->langsmith>=0.1.125->langchain_community) (0.16.0)\n",
            "Requirement already satisfied: jsonpointer>=1.9 in /usr/local/lib/python3.11/dist-packages (from jsonpatch<2.0,>=1.33->langchain-core<1.0.0,>=0.3.66->langchain_community) (3.0.0)\n",
            "Requirement already satisfied: annotated-types>=0.6.0 in /usr/local/lib/python3.11/dist-packages (from pydantic<3.0.0,>=2.7.4->langchain<1.0.0,>=0.3.26->langchain_community) (0.7.0)\n",
            "Requirement already satisfied: pydantic-core==2.33.2 in /usr/local/lib/python3.11/dist-packages (from pydantic<3.0.0,>=2.7.4->langchain<1.0.0,>=0.3.26->langchain_community) (2.33.2)\n",
            "Requirement already satisfied: mypy-extensions>=0.3.0 in /usr/local/lib/python3.11/dist-packages (from typing-inspect<1,>=0.4.0->dataclasses-json<0.7,>=0.5.7->langchain_community) (1.1.0)\n",
            "Requirement already satisfied: sniffio>=1.1 in /usr/local/lib/python3.11/dist-packages (from anyio->httpx<1,>=0.23.0->langsmith>=0.1.125->langchain_community) (1.3.1)\n",
            "Requirement already satisfied: pyowm in /usr/local/lib/python3.11/dist-packages (3.3.0)\n",
            "Requirement already satisfied: requests<3,>=2.20.0 in /usr/local/lib/python3.11/dist-packages (from pyowm) (2.32.3)\n",
            "Requirement already satisfied: geojson<3,>=2.3.0 in /usr/local/lib/python3.11/dist-packages (from pyowm) (2.5.0)\n",
            "Requirement already satisfied: PySocks<2,>=1.7.1 in /usr/local/lib/python3.11/dist-packages (from pyowm) (1.7.1)\n",
            "Requirement already satisfied: charset-normalizer<4,>=2 in /usr/local/lib/python3.11/dist-packages (from requests<3,>=2.20.0->pyowm) (3.4.2)\n",
            "Requirement already satisfied: idna<4,>=2.5 in /usr/local/lib/python3.11/dist-packages (from requests<3,>=2.20.0->pyowm) (3.10)\n",
            "Requirement already satisfied: urllib3<3,>=1.21.1 in /usr/local/lib/python3.11/dist-packages (from requests<3,>=2.20.0->pyowm) (2.4.0)\n",
            "Requirement already satisfied: certifi>=2017.4.17 in /usr/local/lib/python3.11/dist-packages (from requests<3,>=2.20.0->pyowm) (2025.6.15)\n",
            "Requirement already satisfied: langgraph in /usr/local/lib/python3.11/dist-packages (0.5.0)\n",
            "Requirement already satisfied: langchain-core>=0.1 in /usr/local/lib/python3.11/dist-packages (from langgraph) (0.3.66)\n",
            "Requirement already satisfied: langgraph-checkpoint>=2.1.0 in /usr/local/lib/python3.11/dist-packages (from langgraph) (2.1.0)\n",
            "Requirement already satisfied: langgraph-prebuilt>=0.5.0 in /usr/local/lib/python3.11/dist-packages (from langgraph) (0.5.1)\n",
            "Requirement already satisfied: langgraph-sdk>=0.1.42 in /usr/local/lib/python3.11/dist-packages (from langgraph) (0.1.72)\n",
            "Requirement already satisfied: pydantic>=2.7.4 in /usr/local/lib/python3.11/dist-packages (from langgraph) (2.11.7)\n",
            "Requirement already satisfied: xxhash>=3.5.0 in /usr/local/lib/python3.11/dist-packages (from langgraph) (3.5.0)\n",
            "Requirement already satisfied: langsmith>=0.3.45 in /usr/local/lib/python3.11/dist-packages (from langchain-core>=0.1->langgraph) (0.4.1)\n",
            "Requirement already satisfied: tenacity!=8.4.0,<10.0.0,>=8.1.0 in /usr/local/lib/python3.11/dist-packages (from langchain-core>=0.1->langgraph) (8.5.0)\n",
            "Requirement already satisfied: jsonpatch<2.0,>=1.33 in /usr/local/lib/python3.11/dist-packages (from langchain-core>=0.1->langgraph) (1.33)\n",
            "Requirement already satisfied: PyYAML>=5.3 in /usr/local/lib/python3.11/dist-packages (from langchain-core>=0.1->langgraph) (6.0.2)\n",
            "Requirement already satisfied: packaging<25,>=23.2 in /usr/local/lib/python3.11/dist-packages (from langchain-core>=0.1->langgraph) (24.2)\n",
            "Requirement already satisfied: typing-extensions>=4.7 in /usr/local/lib/python3.11/dist-packages (from langchain-core>=0.1->langgraph) (4.14.0)\n",
            "Requirement already satisfied: ormsgpack>=1.10.0 in /usr/local/lib/python3.11/dist-packages (from langgraph-checkpoint>=2.1.0->langgraph) (1.10.0)\n",
            "Requirement already satisfied: httpx>=0.25.2 in /usr/local/lib/python3.11/dist-packages (from langgraph-sdk>=0.1.42->langgraph) (0.28.1)\n",
            "Requirement already satisfied: orjson>=3.10.1 in /usr/local/lib/python3.11/dist-packages (from langgraph-sdk>=0.1.42->langgraph) (3.10.18)\n",
            "Requirement already satisfied: annotated-types>=0.6.0 in /usr/local/lib/python3.11/dist-packages (from pydantic>=2.7.4->langgraph) (0.7.0)\n",
            "Requirement already satisfied: pydantic-core==2.33.2 in /usr/local/lib/python3.11/dist-packages (from pydantic>=2.7.4->langgraph) (2.33.2)\n",
            "Requirement already satisfied: typing-inspection>=0.4.0 in /usr/local/lib/python3.11/dist-packages (from pydantic>=2.7.4->langgraph) (0.4.1)\n",
            "Requirement already satisfied: anyio in /usr/local/lib/python3.11/dist-packages (from httpx>=0.25.2->langgraph-sdk>=0.1.42->langgraph) (4.9.0)\n",
            "Requirement already satisfied: certifi in /usr/local/lib/python3.11/dist-packages (from httpx>=0.25.2->langgraph-sdk>=0.1.42->langgraph) (2025.6.15)\n",
            "Requirement already satisfied: httpcore==1.* in /usr/local/lib/python3.11/dist-packages (from httpx>=0.25.2->langgraph-sdk>=0.1.42->langgraph) (1.0.9)\n",
            "Requirement already satisfied: idna in /usr/local/lib/python3.11/dist-packages (from httpx>=0.25.2->langgraph-sdk>=0.1.42->langgraph) (3.10)\n",
            "Requirement already satisfied: h11>=0.16 in /usr/local/lib/python3.11/dist-packages (from httpcore==1.*->httpx>=0.25.2->langgraph-sdk>=0.1.42->langgraph) (0.16.0)\n",
            "Requirement already satisfied: jsonpointer>=1.9 in /usr/local/lib/python3.11/dist-packages (from jsonpatch<2.0,>=1.33->langchain-core>=0.1->langgraph) (3.0.0)\n",
            "Requirement already satisfied: requests<3,>=2 in /usr/local/lib/python3.11/dist-packages (from langsmith>=0.3.45->langchain-core>=0.1->langgraph) (2.32.3)\n",
            "Requirement already satisfied: requests-toolbelt<2.0.0,>=1.0.0 in /usr/local/lib/python3.11/dist-packages (from langsmith>=0.3.45->langchain-core>=0.1->langgraph) (1.0.0)\n",
            "Requirement already satisfied: zstandard<0.24.0,>=0.23.0 in /usr/local/lib/python3.11/dist-packages (from langsmith>=0.3.45->langchain-core>=0.1->langgraph) (0.23.0)\n",
            "Requirement already satisfied: charset-normalizer<4,>=2 in /usr/local/lib/python3.11/dist-packages (from requests<3,>=2->langsmith>=0.3.45->langchain-core>=0.1->langgraph) (3.4.2)\n",
            "Requirement already satisfied: urllib3<3,>=1.21.1 in /usr/local/lib/python3.11/dist-packages (from requests<3,>=2->langsmith>=0.3.45->langchain-core>=0.1->langgraph) (2.4.0)\n",
            "Requirement already satisfied: sniffio>=1.1 in /usr/local/lib/python3.11/dist-packages (from anyio->httpx>=0.25.2->langgraph-sdk>=0.1.42->langgraph) (1.3.1)\n",
            "Requirement already satisfied: tavily-python in /usr/local/lib/python3.11/dist-packages (0.7.8)\n",
            "Requirement already satisfied: requests in /usr/local/lib/python3.11/dist-packages (from tavily-python) (2.32.3)\n",
            "Requirement already satisfied: tiktoken>=0.5.1 in /usr/local/lib/python3.11/dist-packages (from tavily-python) (0.9.0)\n",
            "Requirement already satisfied: httpx in /usr/local/lib/python3.11/dist-packages (from tavily-python) (0.28.1)\n",
            "Requirement already satisfied: regex>=2022.1.18 in /usr/local/lib/python3.11/dist-packages (from tiktoken>=0.5.1->tavily-python) (2024.11.6)\n",
            "Requirement already satisfied: charset-normalizer<4,>=2 in /usr/local/lib/python3.11/dist-packages (from requests->tavily-python) (3.4.2)\n",
            "Requirement already satisfied: idna<4,>=2.5 in /usr/local/lib/python3.11/dist-packages (from requests->tavily-python) (3.10)\n",
            "Requirement already satisfied: urllib3<3,>=1.21.1 in /usr/local/lib/python3.11/dist-packages (from requests->tavily-python) (2.4.0)\n",
            "Requirement already satisfied: certifi>=2017.4.17 in /usr/local/lib/python3.11/dist-packages (from requests->tavily-python) (2025.6.15)\n",
            "Requirement already satisfied: anyio in /usr/local/lib/python3.11/dist-packages (from httpx->tavily-python) (4.9.0)\n",
            "Requirement already satisfied: httpcore==1.* in /usr/local/lib/python3.11/dist-packages (from httpx->tavily-python) (1.0.9)\n",
            "Requirement already satisfied: h11>=0.16 in /usr/local/lib/python3.11/dist-packages (from httpcore==1.*->httpx->tavily-python) (0.16.0)\n",
            "Requirement already satisfied: sniffio>=1.1 in /usr/local/lib/python3.11/dist-packages (from anyio->httpx->tavily-python) (1.3.1)\n",
            "Requirement already satisfied: typing_extensions>=4.5 in /usr/local/lib/python3.11/dist-packages (from anyio->httpx->tavily-python) (4.14.0)\n"
          ]
        }
      ],
      "source": [
        "!pip install langchain_openai\n",
        "!pip install langchain_community\n",
        "!pip install pyowm\n",
        "!pip install langgraph\n",
        "!pip install tavily-python\n",
        "!pip install langchain_tavily\n"
      ]
    },
    {
      "cell_type": "code",
      "source": [
        "from langchain.tools import tool\n",
        "import requests\n",
        "from datetime import datetime, timedelta\n",
        "import os"
      ],
      "metadata": {
        "id": "3LpBcWdsX8Xg"
      },
      "execution_count": 650,
      "outputs": []
    },
    {
      "cell_type": "code",
      "source": [
        "# Access the secret\n",
        "from google.colab import userdata\n",
        "\n",
        "tavily_api_key = userdata.get('TAVILY_API_KEY')\n",
        "openai_api_key = userdata.get('OPENAI_API_KEY')\n",
        "TAVILY_API_KEY = userdata.get(\"TAVILY_API_KEY\")\n",
        "GOOGLE_API_KEY=userdata.get(\"GOOGLE_API_KEY\")\n"
      ],
      "metadata": {
        "id": "CKe2AVxuX_lw"
      },
      "execution_count": 651,
      "outputs": []
    },
    {
      "cell_type": "code",
      "source": [
        "from langchain_openai import ChatOpenAI\n",
        "\n",
        "llm = ChatOpenAI(model=\"gpt-3.5-turbo\",api_key=openai_api_key)  # or \"gpt-3.5-turbo\"\n",
        "response = llm.invoke(\"hi\")\n",
        "print(response.content)"
      ],
      "metadata": {
        "colab": {
          "base_uri": "https://localhost:8080/"
        },
        "id": "Dt4KtYDvYD77",
        "outputId": "4e01808e-f92d-49f7-928d-5064e9876739"
      },
      "execution_count": 652,
      "outputs": [
        {
          "output_type": "stream",
          "name": "stdout",
          "text": [
            "Hello! How can I help you today?\n"
          ]
        }
      ]
    },
    {
      "cell_type": "code",
      "source": [
        "!git clone https://github.com/ebsenthil/KD-IND-HACK.git\n"
      ],
      "metadata": {
        "colab": {
          "base_uri": "https://localhost:8080/"
        },
        "id": "Ikfav2kZYrI9",
        "outputId": "2ac5300d-2e7a-4d61-f563-b9f6a5561fc1"
      },
      "execution_count": 653,
      "outputs": [
        {
          "output_type": "stream",
          "name": "stdout",
          "text": [
            "Cloning into 'KD-IND-HACK'...\n",
            "remote: Enumerating objects: 21, done.\u001b[K\n",
            "remote: Counting objects: 100% (21/21), done.\u001b[K\n",
            "remote: Compressing objects: 100% (20/20), done.\u001b[K\n",
            "remote: Total 21 (delta 5), reused 0 (delta 0), pack-reused 0 (from 0)\u001b[K\n",
            "Receiving objects: 100% (21/21), 816.92 KiB | 4.42 MiB/s, done.\n",
            "Resolving deltas: 100% (5/5), done.\n"
          ]
        }
      ]
    },
    {
      "cell_type": "code",
      "source": [
        "%cd KD-IND-HACK\n"
      ],
      "metadata": {
        "colab": {
          "base_uri": "https://localhost:8080/"
        },
        "id": "9X-XHQdfYuyq",
        "outputId": "e5621991-5957-4f61-b50f-f7ce5e34efbb"
      },
      "execution_count": 654,
      "outputs": [
        {
          "output_type": "stream",
          "name": "stdout",
          "text": [
            "/content/KD-IND-HACK/KD-IND-HACK/KD-IND-HACK\n"
          ]
        }
      ]
    },
    {
      "cell_type": "code",
      "source": [
        "!ls\n"
      ],
      "metadata": {
        "colab": {
          "base_uri": "https://localhost:8080/"
        },
        "id": "Dw0Slh7QYxbo",
        "outputId": "f9dcf93c-6f8c-4ede-8290-d070aedab869"
      },
      "execution_count": 425,
      "outputs": [
        {
          "output_type": "stream",
          "name": "stdout",
          "text": [
            "feature_columns.pkl\tsalesdata.py\n",
            "inventory_predictor.py\tsynthetic_retail_sales_data.csv\n",
            "label_encoders.pkl\txgboost_inventory_model.pkl\n",
            "retail-1.ipynb\n"
          ]
        }
      ]
    },
    {
      "cell_type": "code",
      "source": [
        "from inventory_predictor import InventoryPredictor\n",
        "\n",
        "predictor = InventoryPredictor(\n",
        "    model_path=\"xgboost_inventory_model.pkl\",\n",
        "    encoders_path=\"label_encoders.pkl\",\n",
        "    features_path=\"feature_columns.pkl\",\n",
        "    historical_data_path=\"synthetic_retail_sales_data.csv\"\n",
        ")\n"
      ],
      "metadata": {
        "colab": {
          "base_uri": "https://localhost:8080/"
        },
        "id": "ccb5SRTuY2Ze",
        "outputId": "b133317c-09a2-404b-bb7f-5a63bec5353d"
      },
      "execution_count": 655,
      "outputs": [
        {
          "output_type": "stream",
          "name": "stdout",
          "text": [
            "Inventory Predictor initialized successfully!\n"
          ]
        }
      ]
    },
    {
      "cell_type": "code",
      "source": [
        "result = predictor.predict_simple(\n",
        "    product_id='SKU002',\n",
        "    date='2025-10-20',\n",
        "    festival_event='Strike',\n",
        "    natural_disaster='Flood_warning',\n",
        "    weather_event='Heavy_Rain'\n",
        ")\n",
        "\n",
        "print(f\"Predicted Sales: {result['predicted_sales']} units\")\n"
      ],
      "metadata": {
        "colab": {
          "base_uri": "https://localhost:8080/"
        },
        "id": "6Opj95DdY5eO",
        "outputId": "f5515297-dfbe-4284-ef65-20a903c3dbd3"
      },
      "execution_count": 656,
      "outputs": [
        {
          "output_type": "stream",
          "name": "stdout",
          "text": [
            "Predicted Sales: 469 units\n"
          ]
        }
      ]
    },
    {
      "cell_type": "code",
      "source": [
        "import requests\n",
        "from datetime import datetime\n",
        "\n",
        "CALENDAR_ID = \"en.indian%23holiday@group.v.calendar.google.com\"  # India Holiday Calendar\n",
        "@tool\n",
        "def get_holidays_on_date(date: str) -> str:\n",
        "    \"\"\"\n",
        "    Fetches public holidays or festival_event in India for a specific date (yyyy-mm-dd).\n",
        "\n",
        "    Args:\n",
        "        date (str): Date in 'YYYY-MM-DD' format.\n",
        "\n",
        "    Returns:\n",
        "        str: Holiday name(s) which is festival_event or message if none found.\n",
        "    \"\"\"\n",
        "    try:\n",
        "        # Parse date and prepare RFC3339 format\n",
        "        dt = datetime.strptime(date, \"%Y-%m-%d\")\n",
        "        time_min = dt.strftime(\"%Y-%m-%dT00:00:00Z\")\n",
        "        time_max = dt.strftime(\"%Y-%m-%dT23:59:59Z\")\n",
        "\n",
        "        url = (\n",
        "            f\"https://www.googleapis.com/calendar/v3/calendars/{CALENDAR_ID}/events\"\n",
        "            f\"?key={GOOGLE_API_KEY}&timeMin={time_min}&timeMax={time_max}\"\n",
        "            f\"&singleEvents=true&orderBy=startTime\"\n",
        "        )\n",
        "\n",
        "        response = requests.get(url)\n",
        "        data = response.json()\n",
        "        events = data.get(\"items\", [])\n",
        "\n",
        "        if not events:\n",
        "            return f\"No public holidays on {date} in India.\"\n",
        "\n",
        "        result = f\"Holidays on {date} in India:\\n\"\n",
        "        for event in events:\n",
        "            result += f\"- {event['summary']}\\n\"\n",
        "\n",
        "        return result.strip()\n",
        "\n",
        "    except Exception as e:\n",
        "        return f\"Error: {str(e)}\"\n"
      ],
      "metadata": {
        "id": "x-5OUlz0W__9"
      },
      "execution_count": 659,
      "outputs": []
    },
    {
      "cell_type": "code",
      "source": [
        "import requests\n",
        "from datetime import datetime\n",
        "\n",
        "from langchain.tools import tool\n",
        "\n",
        "@tool\n",
        "def get_weather_forecast(city: str, start: str, end: str) -> str:\n",
        "    \"\"\"\n",
        "    Get weather forecast for a city between start and end dates (YYYY-MM-DD).\n",
        "    Falls back if the date is beyond forecast range.\n",
        "    \"\"\"\n",
        "    start_date = datetime.strptime(start, \"%Y-%m-%d\")\n",
        "    end_date = datetime.strptime(end, \"%Y-%m-%d\")\n",
        "    today = datetime.today()\n",
        "\n",
        "    if (start_date - today).days > 15:\n",
        "        return (\n",
        "            f\"Sorry, I can only fetch forecasts up to 15 days ahead. \"\n",
        "            f\"{start} is too far in the future. Would you like historical averages instead?\"\n",
        "        )\n",
        "\n",
        "    # Example for Chennai (for simplicity)\n",
        "    latitude = 13.08\n",
        "    longitude = 80.27\n",
        "\n",
        "    url = (\n",
        "        f\"https://api.open-meteo.com/v1/forecast?\"\n",
        "        f\"latitude={latitude}&longitude={longitude}\"\n",
        "        f\"&daily=temperature_2m_max,temperature_2m_min,precipitation_sum\"\n",
        "        f\"&timezone=auto&start_date={start}&end_date={end}\"\n",
        "    )\n",
        "\n",
        "    response = requests.get(url)\n",
        "    data = response.json()\n",
        "\n",
        "    if 'daily' not in data:\n",
        "        return \"No weather data available for the specified range.\"\n",
        "\n",
        "    # Format the weather output nicely\n",
        "    daily = data['daily']\n",
        "    forecast = \"\"\n",
        "    for i in range(len(daily['time'])):\n",
        "        forecast += (\n",
        "            f\"{daily['time'][i]}:\\n\"\n",
        "            f\"- Max Temp: {daily['temperature_2m_max'][i]}°C\\n\"\n",
        "            f\"- Min Temp: {daily['temperature_2m_min'][i]}°C\\n\"\n",
        "            f\"- Rainfall: {daily['precipitation_sum'][i]} mm\\n\\n\"\n",
        "        )\n",
        "\n",
        "    return forecast.strip()\n"
      ],
      "metadata": {
        "id": "NzzBDmjiYIAo"
      },
      "execution_count": 660,
      "outputs": []
    },
    {
      "cell_type": "code",
      "source": [
        "# Tavily tool\n",
        "from tavily import TavilyClient\n",
        "\n",
        "client = TavilyClient(api_key=TAVILY_API_KEY)\n",
        "\n",
        "@tool\n",
        "def search_economic_events(city: str) -> str:\n",
        "    \"\"\"\n",
        "    Search economic events like Policy_Change,Fuel_Price_Hike,Strike,Tax_Change.\n",
        "    Returns a summary string.\n",
        "    \"\"\"\n",
        "    query = f\"Search economic events like Policy_Change,Fuel_Price_Hike,Strike,Tax_Change etc in  {city}\"\n",
        "    try:\n",
        "        response = client.search(query=query, search_depth=\"advanced\", include_answer=True)\n",
        "        return response.get(\"answer\", \"No summary available.\")\n",
        "    except Exception as e:\n",
        "        return f\"Error during search: {e}\"\n"
      ],
      "metadata": {
        "id": "gcMuoJLyReyU"
      },
      "execution_count": 661,
      "outputs": []
    },
    {
      "cell_type": "code",
      "source": [
        "# Tavily tool\n",
        "from tavily import TavilyClient\n",
        "\n",
        "client = TavilyClient(api_key=TAVILY_API_KEY)\n",
        "\n",
        "@tool\n",
        "def search_disaster_events(city: str) -> str:\n",
        "    \"\"\"\n",
        "    Search natural disaster such as Flood warnning, cycle alert etc,\n",
        "    Returns a summary string.\n",
        "    \"\"\"\n",
        "    query = f\"Search natural disaster such as Flood warnning, cycle alert etc in  {city}\"\n",
        "    try:\n",
        "        response = client.search(query=query, search_depth=\"advanced\", include_answer=True)\n",
        "        return response.get(\"answer\", \"No summary available.\")\n",
        "    except Exception as e:\n",
        "        return f\"Error during search: {e}\"\n"
      ],
      "metadata": {
        "id": "WrOz8yRSjJHe"
      },
      "execution_count": 662,
      "outputs": []
    },
    {
      "cell_type": "code",
      "source": [
        "# Tavily tool\n",
        "from tavily import TavilyClient\n",
        "\n",
        "client = TavilyClient(api_key=TAVILY_API_KEY)\n",
        "\n",
        "@tool\n",
        "def search_weather_events(city: str) -> str:\n",
        "    \"\"\"\n",
        "    Search weather events like Heavy_rain, Heatwave, storm etc\n",
        "    Returns a summary string.\n",
        "    \"\"\"\n",
        "    query = f\"Search weather events like Heavy_rain, Heatwave, storm etc in  {city}\"\n",
        "    try:\n",
        "        response = client.search(query=query, search_depth=\"advanced\", include_answer=True)\n",
        "        return response.get(\"answer\", \"No summary available.\")\n",
        "    except Exception as e:\n",
        "        return f\"Error during search: {e}\"\n"
      ],
      "metadata": {
        "id": "WwLE7W_ajLve"
      },
      "execution_count": 663,
      "outputs": []
    },
    {
      "cell_type": "code",
      "source": [
        "from langchain.tools import tool\n",
        "from datetime import datetime\n",
        "import requests\n",
        "\n",
        "@tool\n",
        "def get_weather_forecast_old(city: str, start: str, end: str) -> str:\n",
        "    \"\"\"\n",
        "    Get weather forecast for a city between start and end dates.\n",
        "    If the date is beyond forecastable range, return a friendly message.\n",
        "    \"\"\"\n",
        "    # Parse and check date\n",
        "    today = datetime.today()\n",
        "    start_date = datetime.strptime(start, \"%Y-%m-%d\")\n",
        "\n",
        "    if (start_date - today).days > 14:\n",
        "        return (\n",
        "            f\"I couldn't retrieve the weather forecast for {city.title()} on {start} \"\n",
        "            f\"as it falls beyond the forecastable range. \"\n",
        "            f\"If you need information within the next 14 days, feel free to ask!\"\n",
        "        )\n",
        "\n",
        "    # Coordinates for Chennai (replace with real geocoding for more cities)\n",
        "    coords = {\n",
        "        \"chennai\": {\"lat\": 13.08, \"lon\": 80.27},\n",
        "    }\n",
        "    city_key = city.lower()\n",
        "\n",
        "    if city_key not in coords:\n",
        "        return f\"Sorry, I currently don't support weather data for '{city}'.\"\n",
        "\n",
        "    lat = coords[city_key][\"lat\"]\n",
        "    lon = coords[city_key][\"lon\"]\n",
        "\n",
        "    url = (\n",
        "        f\"https://api.open-meteo.com/v1/forecast?\"\n",
        "        f\"latitude={lat}&longitude={lon}&daily=temperature_2m_max,temperature_2m_min,\"\n",
        "        f\"precipitation_sum&timezone=auto&start_date={start}&end_date={end}\"\n",
        "    )\n",
        "\n",
        "    response = requests.get(url)\n",
        "    if response.status_code != 200:\n",
        "        return f\"Failed to fetch weather data. API returned status code {response.status_code}.\"\n",
        "\n",
        "    data = response.json()\n",
        "    forecast = data.get(\"daily\", {})\n",
        "    if not forecast or not forecast.get(\"temperature_2m_max\"):\n",
        "        return \"Weather data not available for the given date range.\"\n",
        "\n",
        "    # Extract data for the single date (assuming start == end)\n",
        "    idx = 0  # Since it's a single-day forecast\n",
        "    date = forecast[\"time\"][idx]\n",
        "    temp_max = forecast[\"temperature_2m_max\"][idx]\n",
        "    temp_min = forecast[\"temperature_2m_min\"][idx]\n",
        "    rain = forecast[\"precipitation_sum\"][idx]\n",
        "\n",
        "    return (\n",
        "        f\"Weather forecast for {city.title()} on {date}:\\n\"\n",
        "        f\"- Max Temp: {temp_max}°C\\n\"\n",
        "        f\"- Min Temp: {temp_min}°C\\n\"\n",
        "        f\"- Expected Rainfall: {rain} mm\"\n",
        "    )\n"
      ],
      "metadata": {
        "id": "XldnAeMeefyt"
      },
      "execution_count": 580,
      "outputs": []
    },
    {
      "cell_type": "code",
      "source": [
        "from langchain.tools import tool\n",
        "from inventory_predictor import InventoryPredictor\n",
        "\n",
        "# Use explicit file paths inside the cloned repo\n",
        "predictor = InventoryPredictor(\n",
        "    model_path=\"xgboost_inventory_model.pkl\",\n",
        "    encoders_path=\"label_encoders.pkl\",\n",
        "    features_path=\"feature_columns.pkl\",\n",
        "    historical_data_path=\"synthetic_retail_sales_data.csv\"\n",
        ")\n",
        "@tool\n",
        "def predict_inventory(product_id: str, date: str, festival_event: str) -> str:\n",
        "    \"\"\"\n",
        "    Predict inventory/sales for a given product ID, date, and festival/event.\n",
        "\n",
        "    Args:\n",
        "        product_id (str): The SKU or product ID.\n",
        "        date (str): The date for prediction (YYYY-MM-DD).\n",
        "        festival_event (str): The name of the festival or event.\n",
        "\n",
        "    Returns:\n",
        "        str: Predicted sales in units.\n",
        "    \"\"\"\n",
        "    result = predictor.predict_simple(product_id=product_id, date=date, festival_event=festival_event)\n",
        "    return f\"Predicted Sales for {product_id} on {date} during {festival_event}: {result['predicted_sales']} units\"\n"
      ],
      "metadata": {
        "colab": {
          "base_uri": "https://localhost:8080/"
        },
        "id": "TtaqM3xJwXnD",
        "outputId": "7202a2fd-033a-4810-979c-c981ffe68b3b"
      },
      "execution_count": 615,
      "outputs": [
        {
          "output_type": "stream",
          "name": "stdout",
          "text": [
            "Inventory Predictor initialized successfully!\n"
          ]
        }
      ]
    },
    {
      "cell_type": "code",
      "source": [
        "from langchain.tools import tool\n",
        "from inventory_predictor import InventoryPredictor\n",
        "\n",
        "# Initialize predictor with explicit file paths\n",
        "predictor = InventoryPredictor(\n",
        "    model_path=\"xgboost_inventory_model.pkl\",\n",
        "    encoders_path=\"label_encoders.pkl\",\n",
        "    features_path=\"feature_columns.pkl\",\n",
        "    historical_data_path=\"synthetic_retail_sales_data.csv\"\n",
        ")\n",
        "\n",
        "@tool\n",
        "def predict_inventory_enriched(\n",
        "    product_id: str,\n",
        "    date: str,\n",
        "    festival_event: str = \"\",\n",
        "    economic_event: str = \"\",\n",
        "    natural_disaster: str = \"\",\n",
        "    weather_event: str = \"\",\n",
        ") -> str:\n",
        "    \"\"\"\n",
        "    Predict inventory/sales for a given product using enriched event metadata.\n",
        "\n",
        "    Args:\n",
        "        product_id (str): Product SKU.\n",
        "        date (str): Date in YYYY-MM-DD.\n",
        "        festival_event (str): Name of the festival.\n",
        "        economic_event (str): Economic trigger/event.\n",
        "        natural_disaster (str): Disaster type like Flood, Cyclone.\n",
        "        weather_event (str): Weather condition (Rain, Heatwave, etc.).\n",
        "\n",
        "    Returns:\n",
        "        str: Predicted sales.\n",
        "    \"\"\"\n",
        "\n",
        "    # Use a new method (or extend predict_simple) if needed to accept all features\n",
        "    result = predictor.predict_simple(\n",
        "        product_id=product_id,\n",
        "        date=date,\n",
        "        festival_event=festival_event,\n",
        "        economic_event=economic_event,\n",
        "        natural_disaster=natural_disaster,\n",
        "        weather_event=weather_event,\n",
        "    )\n",
        "\n",
        "    return (\n",
        "        f\"Predicted Sales for {product_id} on {date} during {festival_event or 'this period'}: \"\n",
        "        f\"{result['predicted_sales']} units\"\n",
        "    )\n"
      ],
      "metadata": {
        "colab": {
          "base_uri": "https://localhost:8080/"
        },
        "id": "cj15f5EJ--aY",
        "outputId": "e5814740-932b-4063-efde-9c6de315bb44"
      },
      "execution_count": 664,
      "outputs": [
        {
          "output_type": "stream",
          "name": "stdout",
          "text": [
            "Inventory Predictor initialized successfully!\n"
          ]
        }
      ]
    },
    {
      "cell_type": "code",
      "source": [
        "from langchain.tools import tool\n",
        "tools = [get_weather_forecast,get_holidays_on_date,search_economic_events,search_disaster_events,search_weather_events,predict_inventory_enriched]\n",
        "llm_with_tools=llm.bind_tools(tools)"
      ],
      "metadata": {
        "id": "lvB67ZsTYet1"
      },
      "execution_count": 665,
      "outputs": []
    },
    {
      "cell_type": "code",
      "source": [
        "response=llm_with_tools.invoke(\"find inventory on sep 10th 2025 in chennai based on weather\")"
      ],
      "metadata": {
        "id": "vrvs48ncYhFp"
      },
      "execution_count": 666,
      "outputs": []
    },
    {
      "cell_type": "code",
      "source": [
        "response.content"
      ],
      "metadata": {
        "colab": {
          "base_uri": "https://localhost:8080/",
          "height": 35
        },
        "id": "0lp7k_bAYjen",
        "outputId": "8e769d7a-6ef1-44c0-bac9-09f9ebe3f6cb"
      },
      "execution_count": 667,
      "outputs": [
        {
          "output_type": "execute_result",
          "data": {
            "text/plain": [
              "''"
            ],
            "application/vnd.google.colaboratory.intrinsic+json": {
              "type": "string"
            }
          },
          "metadata": {},
          "execution_count": 667
        }
      ]
    },
    {
      "cell_type": "code",
      "source": [
        "response.tool_calls"
      ],
      "metadata": {
        "colab": {
          "base_uri": "https://localhost:8080/"
        },
        "id": "lAHukvxLYmAj",
        "outputId": "203d9d5b-3eca-407c-cac9-3267797a38a7"
      },
      "execution_count": 668,
      "outputs": [
        {
          "output_type": "execute_result",
          "data": {
            "text/plain": [
              "[{'name': 'get_weather_forecast',\n",
              "  'args': {'city': 'Chennai', 'start': '2025-09-10', 'end': '2025-09-10'},\n",
              "  'id': 'call_IWl6D69jh2tnjnktjztsu4PH',\n",
              "  'type': 'tool_call'}]"
            ]
          },
          "metadata": {},
          "execution_count": 668
        }
      ]
    },
    {
      "cell_type": "code",
      "source": [
        "SYSTEM_PROMPT = \"\"\"\n",
        "You are a helpful assistant tasked with providing accurate weather and contextual information to support inventory prediction.\n",
        "You should support the following tasks:\n",
        "\n",
        "1. Provide the weather for a specific city on a specific date.\n",
        "2. Find whether there is a holiday or festival_event on that date and its importance.\n",
        "3. Provide the weather forecast or weather_event (like Storm, Heatwave, Heavy_Rain, etc.) for a specific city over a given date range in the format YYYY-MM-DD.\n",
        "4. Provide the disaster event (like Flood_Warning or Cyclone_Alert) for a specific city over a given date range in the format YYYY-MM-DD.\n",
        "5. Find economic_event (like Fuel_Price_Hike, Policy_Change, Strike, Tax_Change) for a specific city over a given date range in the format YYYY-MM-DD.\n",
        "6. Predict inventory/sales for a given product ID, date, and festival_event.\n",
        "\n",
        "Make sure to extract the city name and date(s) accurately from user queries. Use this information to determine the appropriate tool call. Respond clearly and concisely to assist in inventory forecasting.\n",
        "\"\"\"\n"
      ],
      "metadata": {
        "id": "w-cKgnjBYoQG"
      },
      "execution_count": 669,
      "outputs": []
    },
    {
      "cell_type": "code",
      "source": [
        "from langchain_core.messages import HumanMessage, SystemMessage\n",
        "from langgraph.graph import MessagesState,StateGraph, END, START"
      ],
      "metadata": {
        "id": "HGZpiITlYtL8"
      },
      "execution_count": 670,
      "outputs": []
    },
    {
      "cell_type": "code",
      "source": [
        "def function_1(state:MessagesState):\n",
        "\n",
        "    user_question=state[\"messages\"]\n",
        "\n",
        "    input_question = [SYSTEM_PROMPT]+user_question\n",
        "\n",
        "    response = llm_with_tools.invoke(input_question)\n",
        "\n",
        "    return {\n",
        "        \"messages\":[response]\n",
        "    }"
      ],
      "metadata": {
        "id": "A35H8i3aYv8E"
      },
      "execution_count": 671,
      "outputs": []
    },
    {
      "cell_type": "code",
      "source": [
        "builder=StateGraph(MessagesState)\n",
        "builder.add_node(\"llm_decision_step\",function_1)"
      ],
      "metadata": {
        "colab": {
          "base_uri": "https://localhost:8080/"
        },
        "id": "Lz-JiIPzYz8W",
        "outputId": "7bf6901d-1fe5-48d1-a5a1-578e254eb778"
      },
      "execution_count": 672,
      "outputs": [
        {
          "output_type": "execute_result",
          "data": {
            "text/plain": [
              "<langgraph.graph.state.StateGraph at 0x7d2bd5f2f790>"
            ]
          },
          "metadata": {},
          "execution_count": 672
        }
      ]
    },
    {
      "cell_type": "code",
      "source": [
        "from langgraph.prebuilt import ToolNode\n",
        "builder.add_node(\"tools\",ToolNode(tools))"
      ],
      "metadata": {
        "colab": {
          "base_uri": "https://localhost:8080/"
        },
        "id": "_z8tmgXQY2Zc",
        "outputId": "936a4c2a-e5c0-43e3-ba28-fddcdde01105"
      },
      "execution_count": 673,
      "outputs": [
        {
          "output_type": "execute_result",
          "data": {
            "text/plain": [
              "<langgraph.graph.state.StateGraph at 0x7d2bd5f2f790>"
            ]
          },
          "metadata": {},
          "execution_count": 673
        }
      ]
    },
    {
      "cell_type": "code",
      "source": [
        "builder.add_edge(START,\"llm_decision_step\")"
      ],
      "metadata": {
        "colab": {
          "base_uri": "https://localhost:8080/"
        },
        "id": "uHwztTWbY4iH",
        "outputId": "64ce6a43-db15-44c5-d245-e489377e11bd"
      },
      "execution_count": 674,
      "outputs": [
        {
          "output_type": "execute_result",
          "data": {
            "text/plain": [
              "<langgraph.graph.state.StateGraph at 0x7d2bd5f2f790>"
            ]
          },
          "metadata": {},
          "execution_count": 674
        }
      ]
    },
    {
      "cell_type": "code",
      "source": [
        "from langgraph.prebuilt import tools_condition\n",
        "builder.add_conditional_edges(\n",
        "    \"llm_decision_step\",\n",
        "    tools_condition,\n",
        ")"
      ],
      "metadata": {
        "colab": {
          "base_uri": "https://localhost:8080/"
        },
        "id": "w7m-rkucY74X",
        "outputId": "e35ec8db-0d1a-44c7-8740-9b8b35792905"
      },
      "execution_count": 675,
      "outputs": [
        {
          "output_type": "execute_result",
          "data": {
            "text/plain": [
              "<langgraph.graph.state.StateGraph at 0x7d2bd5f2f790>"
            ]
          },
          "metadata": {},
          "execution_count": 675
        }
      ]
    },
    {
      "cell_type": "code",
      "source": [
        "builder.add_edge(\"tools\",\"llm_decision_step\")"
      ],
      "metadata": {
        "colab": {
          "base_uri": "https://localhost:8080/"
        },
        "id": "Sb66Yp8NY-Md",
        "outputId": "66e8e12e-e2e1-4bfa-918e-aa1bf96a145d"
      },
      "execution_count": 676,
      "outputs": [
        {
          "output_type": "execute_result",
          "data": {
            "text/plain": [
              "<langgraph.graph.state.StateGraph at 0x7d2bd5f2f790>"
            ]
          },
          "metadata": {},
          "execution_count": 676
        }
      ]
    },
    {
      "cell_type": "code",
      "source": [
        "react_graph=builder.compile()"
      ],
      "metadata": {
        "id": "m9J_unzqZAn_"
      },
      "execution_count": 677,
      "outputs": []
    },
    {
      "cell_type": "code",
      "source": [
        "from IPython.display import Image, display\n",
        "display(Image(react_graph.get_graph().draw_mermaid_png()))"
      ],
      "metadata": {
        "colab": {
          "base_uri": "https://localhost:8080/",
          "height": 266
        },
        "id": "I3E6Fs8lZDvu",
        "outputId": "e6b8d097-7074-4710-dd85-a954251b4c80"
      },
      "execution_count": 678,
      "outputs": [
        {
          "output_type": "display_data",
          "data": {
            "image/png": "[encoded data removed]",
            "text/plain": [
              "<IPython.core.display.Image object>"
            ]
          },
          "metadata": {}
        }
      ]
    },
    {
      "cell_type": "code",
      "source": [
        "message=[HumanMessage(content=\"find inventory on 12th jul 2025 in chennai for SKU010 consider various economic, weather, disaster events, holiday events etc. \")]"
      ],
      "metadata": {
        "id": "_L5ekVSFZHGJ"
      },
      "execution_count": 679,
      "outputs": []
    },
    {
      "cell_type": "code",
      "source": [
        "weather_result=react_graph.invoke({\"messages\":message})"
      ],
      "metadata": {
        "id": "b4uThYymZJY1"
      },
      "execution_count": 680,
      "outputs": []
    },
    {
      "cell_type": "code",
      "source": [
        "weather_result"
      ],
      "metadata": {
        "colab": {
          "base_uri": "https://localhost:8080/"
        },
        "id": "PVP2q75kZMXF",
        "outputId": "582ff18f-573a-4e0d-e944-9f8b2a80b44a"
      },
      "execution_count": 512,
      "outputs": [
        {
          "output_type": "execute_result",
          "data": {
            "text/plain": [
              "{'messages': [HumanMessage(content='find inventory based on weather condition on 5th of July 2025 in chennai for SKU010. ', additional_kwargs={}, response_metadata={}, id='ff3174cb-1e0b-40e4-b65b-0806576b05fb'),\n",
              "  AIMessage(content='', additional_kwargs={'tool_calls': [{'id': 'call_yUBcXDlD1oZFpGF7U5dPgABW', 'function': {'arguments': '{\"city\":\"Chennai\",\"start\":\"2025-07-05\",\"end\":\"2025-07-05\"}', 'name': 'get_weather_forecast'}, 'type': 'function'}], 'refusal': None}, response_metadata={'token_usage': {'completion_tokens': 35, 'prompt_tokens': 322, 'total_tokens': 357, 'completion_tokens_details': {'accepted_prediction_tokens': 0, 'audio_tokens': 0, 'reasoning_tokens': 0, 'rejected_prediction_tokens': 0}, 'prompt_tokens_details': {'audio_tokens': 0, 'cached_tokens': 0}}, 'model_name': 'gpt-3.5-turbo-0125', 'system_fingerprint': None, 'id': 'chatcmpl-BoAIF5dODjIAtzDKY85Qcx1gtURQJ', 'service_tier': 'default', 'finish_reason': 'tool_calls', 'logprobs': None}, id='run--6057e5d2-bcd5-4650-827f-1880c31e9fee-0', tool_calls=[{'name': 'get_weather_forecast', 'args': {'city': 'Chennai', 'start': '2025-07-05', 'end': '2025-07-05'}, 'id': 'call_yUBcXDlD1oZFpGF7U5dPgABW', 'type': 'tool_call'}], usage_metadata={'input_tokens': 322, 'output_tokens': 35, 'total_tokens': 357, 'input_token_details': {'audio': 0, 'cache_read': 0}, 'output_token_details': {'audio': 0, 'reasoning': 0}}),\n",
              "  ToolMessage(content='Weather forecast for Chennai on 2025-07-05:\\n- Max Temp: 39.1°C\\n- Min Temp: 27.7°C\\n- Expected Rainfall: 0.0 mm', name='get_weather_forecast', id='c3e147eb-54d9-45ff-be79-de0f30c6d753', tool_call_id='call_yUBcXDlD1oZFpGF7U5dPgABW'),\n",
              "  AIMessage(content='', additional_kwargs={'tool_calls': [{'id': 'call_7hdVFwUM2n688rQN7mSO4Ot3', 'function': {'arguments': '{\"product_id\":\"SKU010\",\"date\":\"2025-07-05\",\"festival_event\":\"Normal Day\"}', 'name': 'predict_inventory'}, 'type': 'function'}], 'refusal': None}, response_metadata={'token_usage': {'completion_tokens': 32, 'prompt_tokens': 410, 'total_tokens': 442, 'completion_tokens_details': {'accepted_prediction_tokens': 0, 'audio_tokens': 0, 'reasoning_tokens': 0, 'rejected_prediction_tokens': 0}, 'prompt_tokens_details': {'audio_tokens': 0, 'cached_tokens': 0}}, 'model_name': 'gpt-3.5-turbo-0125', 'system_fingerprint': None, 'id': 'chatcmpl-BoAIHSuiQ37gSmRvuaZ64TKVuW3Fa', 'service_tier': 'default', 'finish_reason': 'tool_calls', 'logprobs': None}, id='run--2135a803-32e8-4a4f-a028-ad475aba4bd4-0', tool_calls=[{'name': 'predict_inventory', 'args': {'product_id': 'SKU010', 'date': '2025-07-05', 'festival_event': 'Normal Day'}, 'id': 'call_7hdVFwUM2n688rQN7mSO4Ot3', 'type': 'tool_call'}], usage_metadata={'input_tokens': 410, 'output_tokens': 32, 'total_tokens': 442, 'input_token_details': {'audio': 0, 'cache_read': 0}, 'output_token_details': {'audio': 0, 'reasoning': 0}}),\n",
              "  ToolMessage(content='Predicted Sales for SKU010 on 2025-07-05 during Normal Day: 348 units', name='predict_inventory', id='2be674e7-aa95-464e-8b3a-c248a6e81542', tool_call_id='call_7hdVFwUM2n688rQN7mSO4Ot3'),\n",
              "  AIMessage(content='The predicted sales for product SKU010 on July 5th, 2025, in Chennai on a normal day is 348 units based on the weather forecast.', additional_kwargs={'refusal': None}, response_metadata={'token_usage': {'completion_tokens': 34, 'prompt_tokens': 471, 'total_tokens': 505, 'completion_tokens_details': {'accepted_prediction_tokens': 0, 'audio_tokens': 0, 'reasoning_tokens': 0, 'rejected_prediction_tokens': 0}, 'prompt_tokens_details': {'audio_tokens': 0, 'cached_tokens': 0}}, 'model_name': 'gpt-3.5-turbo-0125', 'system_fingerprint': None, 'id': 'chatcmpl-BoAIIzDfYQMJp7KH9JWCniexHNVEf', 'service_tier': 'default', 'finish_reason': 'stop', 'logprobs': None}, id='run--718a0d9e-8870-4e94-86a2-22a573217657-0', usage_metadata={'input_tokens': 471, 'output_tokens': 34, 'total_tokens': 505, 'input_token_details': {'audio': 0, 'cache_read': 0}, 'output_token_details': {'audio': 0, 'reasoning': 0}})]}"
            ]
          },
          "metadata": {},
          "execution_count": 512
        }
      ]
    },
    {
      "cell_type": "code",
      "source": [
        "for m in weather_result[\"messages\"]:\n",
        "    m.pretty_print()"
      ],
      "metadata": {
        "colab": {
          "base_uri": "https://localhost:8080/"
        },
        "id": "MEdAGBViZQG6",
        "outputId": "ffbac3fb-02c3-4ed0-c829-42add268e955"
      },
      "execution_count": 681,
      "outputs": [
        {
          "output_type": "stream",
          "name": "stdout",
          "text": [
            "================================\u001b[1m Human Message \u001b[0m=================================\n",
            "\n",
            "find inventory on 12th jul 2025 in chennai for SKU010 consider various economic, weather, disaster events, holiday events etc. \n",
            "==================================\u001b[1m Ai Message \u001b[0m==================================\n",
            "Tool Calls:\n",
            "  get_weather_forecast (call_XIbAbSjy7aRE7MTLatyHi88b)\n",
            " Call ID: call_XIbAbSjy7aRE7MTLatyHi88b\n",
            "  Args:\n",
            "    city: Chennai\n",
            "    start: 2025-07-12\n",
            "    end: 2025-07-12\n",
            "=================================\u001b[1m Tool Message \u001b[0m=================================\n",
            "Name: get_weather_forecast\n",
            "\n",
            "2025-07-12:\n",
            "- Max Temp: 37.3°C\n",
            "- Min Temp: 28.5°C\n",
            "- Rainfall: 0.0 mm\n",
            "==================================\u001b[1m Ai Message \u001b[0m==================================\n",
            "Tool Calls:\n",
            "  get_holidays_on_date (call_C5cYorX3LzNFSTb17gR6CGNn)\n",
            " Call ID: call_C5cYorX3LzNFSTb17gR6CGNn\n",
            "  Args:\n",
            "    date: 2025-07-12\n",
            "  search_disaster_events (call_AnBYllxY8rKfo8ZriQTqdLCG)\n",
            " Call ID: call_AnBYllxY8rKfo8ZriQTqdLCG\n",
            "  Args:\n",
            "    city: Chennai\n",
            "  search_economic_events (call_i3YeXfCv1ioPwYInOJ7NsS6E)\n",
            " Call ID: call_i3YeXfCv1ioPwYInOJ7NsS6E\n",
            "  Args:\n",
            "    city: Chennai\n",
            "=================================\u001b[1m Tool Message \u001b[0m=================================\n",
            "Name: get_holidays_on_date\n",
            "\n",
            "No public holidays on 2025-07-12 in India.\n",
            "=================================\u001b[1m Tool Message \u001b[0m=================================\n",
            "Name: search_disaster_events\n",
            "\n",
            "Chennai frequently faces flood warnings and cyclone alerts due to its vulnerability to natural disasters. The Indian Meteorological Department issues alerts for heavy rainfall and cyclones. The city has a flood warning system in place.\n",
            "=================================\u001b[1m Tool Message \u001b[0m=================================\n",
            "Name: search_economic_events\n",
            "\n",
            "In Chennai, Ola and Uber drivers went on strike due to fuel price hikes, and truckers have also protested nationwide over fuel price increases. These events highlight economic disruptions caused by fuel price hikes.\n",
            "==================================\u001b[1m Ai Message \u001b[0m==================================\n",
            "Tool Calls:\n",
            "  predict_inventory_enriched (call_e2dRwze65R81q95wTnX624mM)\n",
            " Call ID: call_e2dRwze65R81q95wTnX624mM\n",
            "  Args:\n",
            "    product_id: SKU010\n",
            "    date: 2025-07-12\n",
            "    festival_event: \n",
            "    economic_event: Fuel_Price_Hike\n",
            "    natural_disaster: Flood_Warning\n",
            "    weather_event:\n",
            "=================================\u001b[1m Tool Message \u001b[0m=================================\n",
            "Name: predict_inventory_enriched\n",
            "\n",
            "Predicted Sales for SKU010 on 2025-07-12 during this period: 356 units\n",
            "==================================\u001b[1m Ai Message \u001b[0m==================================\n",
            "\n",
            "Based on the analysis for Chennai on July 12, 2025:\n",
            "- **Weather Forecast**: The weather is expected to have a maximum temperature of 37.3°C, a minimum temperature of 28.5°C, and no rainfall.\n",
            "- **Holiday Events**: There are no public holidays or festival events on this date.\n",
            "- **Disaster Events**: Chennai frequently faces flood warnings and cyclone alerts due to its vulnerability to natural disasters. The city has a flood warning system in place.\n",
            "- **Economic Events**: Ola and Uber drivers went on strike due to fuel price hikes, highlighting economic disruptions caused by fuel price increases.\n",
            "\n",
            "### Inventory Prediction:\n",
            "With the considerations of a Fuel Price Hike and Flood Warning:\n",
            "- **Predicted Sales for SKU010**: 356 units.\n",
            "\n",
            "This prediction takes into account the economic and disaster events impacting sales on July 12, 2025, in Chennai.\n"
          ]
        }
      ]
    },
    {
      "cell_type": "code",
      "source": [
        "from IPython.display import Markdown, display\n",
        "\n",
        "response = weather_result[\"messages\"][-1].content\n",
        "display(Markdown(response))  # For Jupyter or Colab"
      ],
      "metadata": {
        "colab": {
          "base_uri": "https://localhost:8080/",
          "height": 246
        },
        "id": "Nq0NZ3IuZTF-",
        "outputId": "e5f8c629-832b-421b-e3d4-cffe1c3f610c"
      },
      "execution_count": 682,
      "outputs": [
        {
          "output_type": "display_data",
          "data": {
            "text/plain": [
              "<IPython.core.display.Markdown object>"
            ],
            "text/markdown": "Based on the analysis for Chennai on July 12, 2025:\n- **Weather Forecast**: The weather is expected to have a maximum temperature of 37.3°C, a minimum temperature of 28.5°C, and no rainfall.\n- **Holiday Events**: There are no public holidays or festival events on this date.\n- **Disaster Events**: Chennai frequently faces flood warnings and cyclone alerts due to its vulnerability to natural disasters. The city has a flood warning system in place.\n- **Economic Events**: Ola and Uber drivers went on strike due to fuel price hikes, highlighting economic disruptions caused by fuel price increases.\n\n### Inventory Prediction:\nWith the considerations of a Fuel Price Hike and Flood Warning:\n- **Predicted Sales for SKU010**: 356 units.\n\nThis prediction takes into account the economic and disaster events impacting sales on July 12, 2025, in Chennai."
          },
          "metadata": {}
        }
      ]
    }
  ]
}